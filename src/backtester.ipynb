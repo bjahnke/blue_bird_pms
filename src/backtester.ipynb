{
 "cells": [
  {
   "cell_type": "code",
   "execution_count": 1,
   "metadata": {
    "collapsed": true
   },
   "outputs": [],
   "source": [
    "import src.utils.regime as regime\n",
    "import src.scanner as scanner\n",
    "import src.floor_ceiling_regime as sfcr"
   ]
  },
  {
   "cell_type": "code",
   "execution_count": 2,
   "outputs": [
    {
     "name": "stdout",
     "output_type": "stream",
     "text": [
      "(0/505) MMM\n",
      "(1/505) AOS\n",
      "(2/505) ABT\n",
      "(3/505) ABBV\n",
      "(4/505) ABMD\n"
     ]
    },
    {
     "ename": "AttributeError",
     "evalue": "'NoneType' object has no attribute 'valid_entries'",
     "output_type": "error",
     "traceback": [
      "\u001B[1;31m---------------------------------------------------------------------------\u001B[0m",
      "\u001B[1;31mAttributeError\u001B[0m                            Traceback (most recent call last)",
      "Input \u001B[1;32mIn [2]\u001B[0m, in \u001B[0;36m<cell line: 25>\u001B[1;34m()\u001B[0m\n\u001B[0;32m      2\u001B[0m ticks_, _ \u001B[38;5;241m=\u001B[39m scanner\u001B[38;5;241m.\u001B[39mget_wikipedia_stocks(sp500_wiki)\n\u001B[0;32m      3\u001B[0m scanner_ \u001B[38;5;241m=\u001B[39m scanner\u001B[38;5;241m.\u001B[39mStockDataGetter(\n\u001B[0;32m      4\u001B[0m     data_getter_method\u001B[38;5;241m=\u001B[39m\u001B[38;5;28;01mlambda\u001B[39;00m s: scanner\u001B[38;5;241m.\u001B[39myf_get_stock_data(s, days\u001B[38;5;241m=\u001B[39m\u001B[38;5;241m58\u001B[39m, interval\u001B[38;5;241m=\u001B[39m\u001B[38;5;124m\"\u001B[39m\u001B[38;5;124m15m\u001B[39m\u001B[38;5;124m\"\u001B[39m),\n\u001B[0;32m      5\u001B[0m )\u001B[38;5;241m.\u001B[39myield_strategy_data(\n\u001B[1;32m   (...)\u001B[0m\n\u001B[0;32m     23\u001B[0m     expected_exceptions\u001B[38;5;241m=\u001B[39m(regime\u001B[38;5;241m.\u001B[39mNotEnoughDataError, sfcr\u001B[38;5;241m.\u001B[39mNoEntriesError)\n\u001B[0;32m     24\u001B[0m )\n\u001B[1;32m---> 25\u001B[0m stat_overview_ \u001B[38;5;241m=\u001B[39m \u001B[43mscanner\u001B[49m\u001B[38;5;241;43m.\u001B[39;49m\u001B[43mrun_scanner\u001B[49m\u001B[43m(\u001B[49m\n\u001B[0;32m     26\u001B[0m \u001B[43m    \u001B[49m\u001B[43mscanner\u001B[49m\u001B[38;5;241;43m=\u001B[39;49m\u001B[43mscanner_\u001B[49m\u001B[43m,\u001B[49m\n\u001B[0;32m     27\u001B[0m \u001B[43m    \u001B[49m\u001B[43mstat_calculator\u001B[49m\u001B[38;5;241;43m=\u001B[39;49m\u001B[38;5;28;43;01mlambda\u001B[39;49;00m\u001B[43m \u001B[49m\u001B[43mdata_\u001B[49m\u001B[43m,\u001B[49m\u001B[43m \u001B[49m\u001B[43mentry_signals_\u001B[49m\u001B[43m:\u001B[49m\u001B[43m \u001B[49m\u001B[43msfcr\u001B[49m\u001B[38;5;241;43m.\u001B[39;49m\u001B[43mcalc_stats\u001B[49m\u001B[43m(\u001B[49m\n\u001B[0;32m     28\u001B[0m \u001B[43m        \u001B[49m\u001B[43mdata_\u001B[49m\u001B[43m,\u001B[49m\n\u001B[0;32m     29\u001B[0m \u001B[43m        \u001B[49m\u001B[43mentry_signals_\u001B[49m\u001B[43m,\u001B[49m\n\u001B[0;32m     30\u001B[0m \u001B[43m        \u001B[49m\u001B[43mmin_periods\u001B[49m\u001B[38;5;241;43m=\u001B[39;49m\u001B[38;5;241;43m50\u001B[39;49m\u001B[43m,\u001B[49m\n\u001B[0;32m     31\u001B[0m \u001B[43m        \u001B[49m\u001B[43mwindow\u001B[49m\u001B[38;5;241;43m=\u001B[39;49m\u001B[38;5;241;43m200\u001B[39;49m\u001B[43m,\u001B[49m\n\u001B[0;32m     32\u001B[0m \u001B[43m        \u001B[49m\u001B[43mpercentile\u001B[49m\u001B[38;5;241;43m=\u001B[39;49m\u001B[38;5;241;43m0.05\u001B[39;49m\u001B[43m,\u001B[49m\n\u001B[0;32m     33\u001B[0m \u001B[43m        \u001B[49m\u001B[43mlimit\u001B[49m\u001B[38;5;241;43m=\u001B[39;49m\u001B[38;5;241;43m5\u001B[39;49m\u001B[43m,\u001B[49m\n\u001B[0;32m     34\u001B[0m \u001B[43m        \u001B[49m\u001B[43mfreq\u001B[49m\u001B[38;5;241;43m=\u001B[39;49m\u001B[38;5;124;43m'\u001B[39;49m\u001B[38;5;124;43m15T\u001B[39;49m\u001B[38;5;124;43m'\u001B[39;49m\u001B[43m,\u001B[49m\n\u001B[0;32m     35\u001B[0m \u001B[43m    \u001B[49m\u001B[43m)\u001B[49m\n\u001B[0;32m     36\u001B[0m \u001B[43m)\u001B[49m\n\u001B[0;32m     37\u001B[0m stat_overview_\n",
      "File \u001B[1;32mC:\\_projects\\_python_projects\\blue_bird_pms\\src\\scanner.py:491\u001B[0m, in \u001B[0;36mrun_scanner\u001B[1;34m(scanner, stat_calculator)\u001B[0m\n\u001B[0;32m    489\u001B[0m \u001B[38;5;28;01mif\u001B[39;00m symbol_data \u001B[38;5;129;01mis\u001B[39;00m \u001B[38;5;28;01mNone\u001B[39;00m:\n\u001B[0;32m    490\u001B[0m     \u001B[38;5;28;01mcontinue\u001B[39;00m\n\u001B[1;32m--> 491\u001B[0m stat_sheet_historical \u001B[38;5;241m=\u001B[39m stat_calculator(symbol_data, \u001B[43mstrategy_data\u001B[49m\u001B[38;5;241;43m.\u001B[39;49m\u001B[43mvalid_entries\u001B[49m)\n\u001B[0;32m    492\u001B[0m \u001B[38;5;66;03m# TODO -2 because yf gives to the minute data despite before bar closes\u001B[39;00m\n\u001B[0;32m    493\u001B[0m stat_sheet_final_scores \u001B[38;5;241m=\u001B[39m stat_sheet_historical\u001B[38;5;241m.\u001B[39miloc[\u001B[38;5;241m-\u001B[39m\u001B[38;5;241m2\u001B[39m]\u001B[38;5;241m.\u001B[39mcopy()\n",
      "\u001B[1;31mAttributeError\u001B[0m: 'NoneType' object has no attribute 'valid_entries'"
     ]
    }
   ],
   "source": [
    "sp500_wiki = \"https://en.wikipedia.org/wiki/List_of_S%26P_500_companies\"\n",
    "ticks_, _ = scanner.get_wikipedia_stocks(sp500_wiki)\n",
    "scanner_ = scanner.StockDataGetter(\n",
    "    data_getter_method=lambda s: scanner.yf_get_stock_data(s, days=58, interval=\"15m\"),\n",
    ").yield_strategy_data(\n",
    "    bench_symbol=\"SPY\",\n",
    "    symbols=ticks_,\n",
    "    strategy=lambda pdf_, bdf_: (\n",
    "        sfcr.fc_scale_strategy(\n",
    "            price_data=scanner.data_to_relative(data=pdf_, bench_df=bdf_),\n",
    "            distance_pct=0.05,\n",
    "            retrace_pct=0.05,\n",
    "            swing_window=63,\n",
    "            sw_lvl=3,\n",
    "            regime_threshold=0.5,\n",
    "            trail_offset_pct=0.01,\n",
    "            r_multiplier=1.5,\n",
    "            entry_lvls=None,\n",
    "            highest_peak_lvl=3,\n",
    "            side_only=None,\n",
    "        )\n",
    "    ),\n",
    "    expected_exceptions=(regime.NotEnoughDataError, sfcr.NoEntriesError)\n",
    ")\n",
    "stat_overview_ = scanner.run_scanner(\n",
    "    scanner=scanner_,\n",
    "    stat_calculator=lambda data_, entry_signals_: sfcr.calc_stats(\n",
    "        data_,\n",
    "        entry_signals_,\n",
    "        min_periods=50,\n",
    "        window=200,\n",
    "        percentile=0.05,\n",
    "        limit=5,\n",
    "        freq='15T',\n",
    "    )\n",
    ")\n",
    "stat_overview_"
   ],
   "metadata": {
    "collapsed": false,
    "pycharm": {
     "name": "#%%\n"
    }
   }
  }
 ],
 "metadata": {
  "kernelspec": {
   "display_name": "Python 3",
   "language": "python",
   "name": "python3"
  },
  "language_info": {
   "codemirror_mode": {
    "name": "ipython",
    "version": 2
   },
   "file_extension": ".py",
   "mimetype": "text/x-python",
   "name": "python",
   "nbconvert_exporter": "python",
   "pygments_lexer": "ipython2",
   "version": "2.7.6"
  }
 },
 "nbformat": 4,
 "nbformat_minor": 0
}