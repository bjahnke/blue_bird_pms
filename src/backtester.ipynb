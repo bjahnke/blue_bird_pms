{
 "cells": [
  {
   "cell_type": "code",
   "execution_count": 5,
   "metadata": {
    "collapsed": true
   },
   "outputs": [],
   "source": [
    "import src.utils.regime as regime\n",
    "import src.scanner as scanner\n",
    "import src.floor_ceiling_regime as sfcr"
   ]
  },
  {
   "cell_type": "code",
   "execution_count": 7,
   "outputs": [
    {
     "name": "stdout",
     "output_type": "stream",
     "text": [
      "(0/2) MMM\r"
     ]
    },
    {
     "ename": "KeyboardInterrupt",
     "evalue": "",
     "output_type": "error",
     "traceback": [
      "\u001B[1;31m---------------------------------------------------------------------------\u001B[0m",
      "\u001B[1;31mKeyboardInterrupt\u001B[0m                         Traceback (most recent call last)",
      "Input \u001B[1;32mIn [7]\u001B[0m, in \u001B[0;36m<cell line: 25>\u001B[1;34m()\u001B[0m\n\u001B[0;32m      2\u001B[0m ticks_, _ \u001B[38;5;241m=\u001B[39m scanner\u001B[38;5;241m.\u001B[39mget_wikipedia_stocks(sp500_wiki)\n\u001B[0;32m      3\u001B[0m scanner_ \u001B[38;5;241m=\u001B[39m scanner\u001B[38;5;241m.\u001B[39mStockDataGetter(\n\u001B[0;32m      4\u001B[0m     data_getter_method\u001B[38;5;241m=\u001B[39m\u001B[38;5;28;01mlambda\u001B[39;00m s: scanner\u001B[38;5;241m.\u001B[39myf_get_stock_data(s, days\u001B[38;5;241m=\u001B[39m\u001B[38;5;241m58\u001B[39m, interval\u001B[38;5;241m=\u001B[39m\u001B[38;5;124m\"\u001B[39m\u001B[38;5;124m15m\u001B[39m\u001B[38;5;124m\"\u001B[39m),\n\u001B[0;32m      5\u001B[0m )\u001B[38;5;241m.\u001B[39myield_strategy_data(\n\u001B[1;32m   (...)\u001B[0m\n\u001B[0;32m     23\u001B[0m     expected_exceptions\u001B[38;5;241m=\u001B[39m(regime\u001B[38;5;241m.\u001B[39mNotEnoughDataError, sfcr\u001B[38;5;241m.\u001B[39mNoEntriesError)\n\u001B[0;32m     24\u001B[0m )\n\u001B[1;32m---> 25\u001B[0m stat_overview_ \u001B[38;5;241m=\u001B[39m \u001B[43mscanner\u001B[49m\u001B[38;5;241;43m.\u001B[39;49m\u001B[43mrun_scanner\u001B[49m\u001B[43m(\u001B[49m\n\u001B[0;32m     26\u001B[0m \u001B[43m    \u001B[49m\u001B[43mscanner\u001B[49m\u001B[38;5;241;43m=\u001B[39;49m\u001B[43mscanner_\u001B[49m\u001B[43m,\u001B[49m\n\u001B[0;32m     27\u001B[0m \u001B[43m    \u001B[49m\u001B[43mstat_calculator\u001B[49m\u001B[38;5;241;43m=\u001B[39;49m\u001B[38;5;28;43;01mlambda\u001B[39;49;00m\u001B[43m \u001B[49m\u001B[43mdata_\u001B[49m\u001B[43m,\u001B[49m\u001B[43m \u001B[49m\u001B[43mentry_signals_\u001B[49m\u001B[43m:\u001B[49m\u001B[43m \u001B[49m\u001B[43msfcr\u001B[49m\u001B[38;5;241;43m.\u001B[39;49m\u001B[43mcalc_stats\u001B[49m\u001B[43m(\u001B[49m\n\u001B[0;32m     28\u001B[0m \u001B[43m        \u001B[49m\u001B[43mdata_\u001B[49m\u001B[43m,\u001B[49m\n\u001B[0;32m     29\u001B[0m \u001B[43m        \u001B[49m\u001B[43mentry_signals_\u001B[49m\u001B[43m,\u001B[49m\n\u001B[0;32m     30\u001B[0m \u001B[43m        \u001B[49m\u001B[43mmin_periods\u001B[49m\u001B[38;5;241;43m=\u001B[39;49m\u001B[38;5;241;43m50\u001B[39;49m\u001B[43m,\u001B[49m\n\u001B[0;32m     31\u001B[0m \u001B[43m        \u001B[49m\u001B[43mwindow\u001B[49m\u001B[38;5;241;43m=\u001B[39;49m\u001B[38;5;241;43m200\u001B[39;49m\u001B[43m,\u001B[49m\n\u001B[0;32m     32\u001B[0m \u001B[43m        \u001B[49m\u001B[43mpercentile\u001B[49m\u001B[38;5;241;43m=\u001B[39;49m\u001B[38;5;241;43m0.05\u001B[39;49m\u001B[43m,\u001B[49m\n\u001B[0;32m     33\u001B[0m \u001B[43m        \u001B[49m\u001B[43mlimit\u001B[49m\u001B[38;5;241;43m=\u001B[39;49m\u001B[38;5;241;43m5\u001B[39;49m\u001B[43m,\u001B[49m\n\u001B[0;32m     34\u001B[0m \u001B[43m        \u001B[49m\u001B[43mfreq\u001B[49m\u001B[38;5;241;43m=\u001B[39;49m\u001B[38;5;124;43m'\u001B[39;49m\u001B[38;5;124;43m15T\u001B[39;49m\u001B[38;5;124;43m'\u001B[39;49m\u001B[43m,\u001B[49m\n\u001B[0;32m     35\u001B[0m \u001B[43m    \u001B[49m\u001B[43m)\u001B[49m\n\u001B[0;32m     36\u001B[0m \u001B[43m)\u001B[49m\n\u001B[0;32m     37\u001B[0m stat_overview_\n",
      "File \u001B[1;32mC:\\_projects\\_python_projects\\blue_bird_pms\\src\\scanner.py:339\u001B[0m, in \u001B[0;36mrun_scanner\u001B[1;34m(scanner, stat_calculator)\u001B[0m\n\u001B[0;32m    337\u001B[0m     stat_sheet_final_scores \u001B[38;5;241m=\u001B[39m stat_sheet_historical\u001B[38;5;241m.\u001B[39miloc[\u001B[38;5;241m-\u001B[39m\u001B[38;5;241m2\u001B[39m]\u001B[38;5;241m.\u001B[39mcopy()\n\u001B[0;32m    338\u001B[0m     stat_sheet_final_scores[\u001B[38;5;124m'\u001B[39m\u001B[38;5;124msymbol\u001B[39m\u001B[38;5;124m'\u001B[39m] \u001B[38;5;241m=\u001B[39m symbol\n\u001B[1;32m--> 339\u001B[0m     stat_overview \u001B[38;5;241m=\u001B[39m \u001B[43mstat_overview\u001B[49m\u001B[38;5;241m.\u001B[39mappend(stat_sheet_final_scores)\n\u001B[0;32m    341\u001B[0m stat_overview \u001B[38;5;241m=\u001B[39m stat_overview\u001B[38;5;241m.\u001B[39mreset_index(drop\u001B[38;5;241m=\u001B[39m\u001B[38;5;28;01mTrue\u001B[39;00m)\n\u001B[0;32m    342\u001B[0m \u001B[38;5;28;01mreturn\u001B[39;00m stat_overview\n",
      "File \u001B[1;32mC:\\_projects\\_python_projects\\blue_bird_pms\\src\\scanner.py:339\u001B[0m, in \u001B[0;36mrun_scanner\u001B[1;34m(scanner, stat_calculator)\u001B[0m\n\u001B[0;32m    337\u001B[0m     stat_sheet_final_scores \u001B[38;5;241m=\u001B[39m stat_sheet_historical\u001B[38;5;241m.\u001B[39miloc[\u001B[38;5;241m-\u001B[39m\u001B[38;5;241m2\u001B[39m]\u001B[38;5;241m.\u001B[39mcopy()\n\u001B[0;32m    338\u001B[0m     stat_sheet_final_scores[\u001B[38;5;124m'\u001B[39m\u001B[38;5;124msymbol\u001B[39m\u001B[38;5;124m'\u001B[39m] \u001B[38;5;241m=\u001B[39m symbol\n\u001B[1;32m--> 339\u001B[0m     stat_overview \u001B[38;5;241m=\u001B[39m \u001B[43mstat_overview\u001B[49m\u001B[38;5;241m.\u001B[39mappend(stat_sheet_final_scores)\n\u001B[0;32m    341\u001B[0m stat_overview \u001B[38;5;241m=\u001B[39m stat_overview\u001B[38;5;241m.\u001B[39mreset_index(drop\u001B[38;5;241m=\u001B[39m\u001B[38;5;28;01mTrue\u001B[39;00m)\n\u001B[0;32m    342\u001B[0m \u001B[38;5;28;01mreturn\u001B[39;00m stat_overview\n",
      "File \u001B[1;32m_pydevd_bundle\\pydevd_cython_win32_39_64.pyx:1180\u001B[0m, in \u001B[0;36m_pydevd_bundle.pydevd_cython_win32_39_64.SafeCallWrapper.__call__\u001B[1;34m()\u001B[0m\n",
      "File \u001B[1;32m_pydevd_bundle\\pydevd_cython_win32_39_64.pyx:621\u001B[0m, in \u001B[0;36m_pydevd_bundle.pydevd_cython_win32_39_64.PyDBFrame.trace_dispatch\u001B[1;34m()\u001B[0m\n",
      "File \u001B[1;32m_pydevd_bundle\\pydevd_cython_win32_39_64.pyx:930\u001B[0m, in \u001B[0;36m_pydevd_bundle.pydevd_cython_win32_39_64.PyDBFrame.trace_dispatch\u001B[1;34m()\u001B[0m\n",
      "File \u001B[1;32m_pydevd_bundle\\pydevd_cython_win32_39_64.pyx:921\u001B[0m, in \u001B[0;36m_pydevd_bundle.pydevd_cython_win32_39_64.PyDBFrame.trace_dispatch\u001B[1;34m()\u001B[0m\n",
      "File \u001B[1;32m_pydevd_bundle\\pydevd_cython_win32_39_64.pyx:318\u001B[0m, in \u001B[0;36m_pydevd_bundle.pydevd_cython_win32_39_64.PyDBFrame.do_wait_suspend\u001B[1;34m()\u001B[0m\n",
      "File \u001B[1;32mC:\\Program Files\\JetBrains\\PyCharm 2021.1.1\\plugins\\python\\helpers\\pydev\\pydevd.py:1147\u001B[0m, in \u001B[0;36mPyDB.do_wait_suspend\u001B[1;34m(self, thread, frame, event, arg, send_suspend_message, is_unhandled_exception)\u001B[0m\n\u001B[0;32m   1144\u001B[0m         from_this_thread\u001B[38;5;241m.\u001B[39mappend(frame_id)\n\u001B[0;32m   1146\u001B[0m \u001B[38;5;28;01mwith\u001B[39;00m \u001B[38;5;28mself\u001B[39m\u001B[38;5;241m.\u001B[39m_threads_suspended_single_notification\u001B[38;5;241m.\u001B[39mnotify_thread_suspended(thread_id, stop_reason):\n\u001B[1;32m-> 1147\u001B[0m     \u001B[38;5;28;43mself\u001B[39;49m\u001B[38;5;241;43m.\u001B[39;49m\u001B[43m_do_wait_suspend\u001B[49m\u001B[43m(\u001B[49m\u001B[43mthread\u001B[49m\u001B[43m,\u001B[49m\u001B[43m \u001B[49m\u001B[43mframe\u001B[49m\u001B[43m,\u001B[49m\u001B[43m \u001B[49m\u001B[43mevent\u001B[49m\u001B[43m,\u001B[49m\u001B[43m \u001B[49m\u001B[43marg\u001B[49m\u001B[43m,\u001B[49m\u001B[43m \u001B[49m\u001B[43msuspend_type\u001B[49m\u001B[43m,\u001B[49m\u001B[43m \u001B[49m\u001B[43mfrom_this_thread\u001B[49m\u001B[43m)\u001B[49m\n",
      "File \u001B[1;32mC:\\Program Files\\JetBrains\\PyCharm 2021.1.1\\plugins\\python\\helpers\\pydev\\pydevd.py:1162\u001B[0m, in \u001B[0;36mPyDB._do_wait_suspend\u001B[1;34m(self, thread, frame, event, arg, suspend_type, from_this_thread)\u001B[0m\n\u001B[0;32m   1159\u001B[0m             \u001B[38;5;28mself\u001B[39m\u001B[38;5;241m.\u001B[39m_call_mpl_hook()\n\u001B[0;32m   1161\u001B[0m         \u001B[38;5;28mself\u001B[39m\u001B[38;5;241m.\u001B[39mprocess_internal_commands()\n\u001B[1;32m-> 1162\u001B[0m         \u001B[43mtime\u001B[49m\u001B[38;5;241;43m.\u001B[39;49m\u001B[43msleep\u001B[49m\u001B[43m(\u001B[49m\u001B[38;5;241;43m0.01\u001B[39;49m\u001B[43m)\u001B[49m\n\u001B[0;32m   1164\u001B[0m \u001B[38;5;28mself\u001B[39m\u001B[38;5;241m.\u001B[39mcancel_async_evaluation(get_current_thread_id(thread), \u001B[38;5;28mstr\u001B[39m(\u001B[38;5;28mid\u001B[39m(frame)))\n\u001B[0;32m   1166\u001B[0m \u001B[38;5;66;03m# process any stepping instructions\u001B[39;00m\n",
      "\u001B[1;31mKeyboardInterrupt\u001B[0m: "
     ]
    }
   ],
   "source": [
    "sp500_wiki = \"https://en.wikipedia.org/wiki/List_of_S%26P_500_companies\"\n",
    "ticks_, _ = scanner.get_wikipedia_stocks(sp500_wiki)\n",
    "scanner_ = scanner.StockDataGetter(\n",
    "    data_getter_method=lambda s: scanner.yf_get_stock_data(s, days=58, interval=\"15m\"),\n",
    ").yield_strategy_data(\n",
    "    bench_symbol=\"SPY\",\n",
    "    symbols=ticks_[:2],\n",
    "    strategy=lambda pdf_, bdf_: (\n",
    "        sfcr.fc_scale_strategy(\n",
    "            price_data=scanner.data_to_relative(pdf_, bdf_),\n",
    "            distance_pct=0.05,\n",
    "            retrace_pct=0.05,\n",
    "            swing_window=63,\n",
    "            sw_lvl=3,\n",
    "            regime_threshold=0.5,\n",
    "            trail_offset_pct=0.01,\n",
    "            r_multiplier=1.5,\n",
    "            entry_lvls=None,\n",
    "            highest_peak_lvl=3,\n",
    "            side_only=None,\n",
    "        )\n",
    "    ),\n",
    "    expected_exceptions=(regime.NotEnoughDataError, sfcr.NoEntriesError)\n",
    ")\n",
    "stat_overview_ = scanner.run_scanner(\n",
    "    scanner=scanner_,\n",
    "    stat_calculator=lambda data_, entry_signals_: sfcr.calc_stats(\n",
    "        data_,\n",
    "        entry_signals_,\n",
    "        min_periods=50,\n",
    "        window=200,\n",
    "        percentile=0.05,\n",
    "        limit=5,\n",
    "        freq='15T',\n",
    "    )\n",
    ")\n",
    "stat_overview_"
   ],
   "metadata": {
    "collapsed": false,
    "pycharm": {
     "name": "#%%\n"
    }
   }
  },
  {
   "cell_type": "code",
   "execution_count": 6,
   "outputs": [],
   "source": [
    "import src.money_management as smm\n",
    "\n",
    "res = smm.eqty_risk_shares()"
   ],
   "metadata": {
    "collapsed": false,
    "pycharm": {
     "name": "#%%\n"
    }
   }
  }
 ],
 "metadata": {
  "kernelspec": {
   "display_name": "Python 3",
   "language": "python",
   "name": "python3"
  },
  "language_info": {
   "codemirror_mode": {
    "name": "ipython",
    "version": 2
   },
   "file_extension": ".py",
   "mimetype": "text/x-python",
   "name": "python",
   "nbconvert_exporter": "python",
   "pygments_lexer": "ipython2",
   "version": "2.7.6"
  }
 },
 "nbformat": 4,
 "nbformat_minor": 0
}