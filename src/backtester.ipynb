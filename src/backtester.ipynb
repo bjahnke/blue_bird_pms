{
 "cells": [
  {
   "cell_type": "code",
   "execution_count": 5,
   "metadata": {
    "collapsed": true
   },
   "outputs": [],
   "source": [
    "import src.utils.regime as regime\n",
    "import src.scanner as scanner\n",
    "import src.floor_ceiling_regime as sfcr\n",
    "import json"
   ]
  },
  {
   "cell_type": "code",
   "execution_count": 1,
   "outputs": [
    {
     "ename": "IndentationError",
     "evalue": "expected an indented block (863730350.py, line 5)",
     "output_type": "error",
     "traceback": [
      "\u001B[1;36m  Input \u001B[1;32mIn [1]\u001B[1;36m\u001B[0m\n\u001B[1;33m    def re_download_data(ticks, days, interval_str, history_path, bench_path):\u001B[0m\n\u001B[1;37m    ^\u001B[0m\n\u001B[1;31mIndentationError\u001B[0m\u001B[1;31m:\u001B[0m expected an indented block\n"
     ]
    }
   ],
   "source": [
    "\n",
    "class DataLoader:\n",
    "    def __init__(self, data_file_path):\n",
    "        with open(data_file_path, 'r') as data_fp:\n",
    "            self._data = json.load(data_fp)\n",
    "\n",
    "    @property\n",
    "    def paths(self):\n",
    "        return self._data['paths']\n",
    "\n",
    "    @property\n",
    "    def base(self):\n",
    "        return self.paths['base']\n",
    "\n",
    "    def history(self, bench: str, interval: int):\n",
    "        return self.paths['history'][str(interval)][bench]\n",
    "\n",
    "    def bench(self, bench, interval):\n",
    "        return self.paths['bench'][str(interval)][bench]\n",
    "\n",
    "\n",
    "def main_re_download_data():\n",
    "    \"\"\"re download stock and bench data, write to locations specified in paths.json\"\"\"\n",
    "    sp500_wiki = \"https://en.wikipedia.org/wiki/List_of_S%26P_500_companies\"\n",
    "    ticks, _ = scanner.get_wikipedia_stocks(sp500_wiki)\n",
    "    data_loader = DataLoader('paths.json')\n",
    "    bench = 'SPY'\n",
    "    days = 59\n",
    "    interval = 15\n",
    "    interval_str=f'{interval}m'\n",
    "    history_path=data_loader.history(bench=bench, interval=interval)\n",
    "    bench_path=data_loader.bench(bench=bench, interval=interval)\n",
    "    downloaded_data = scanner.yf_download_data(ticks, days, interval_str)\n",
    "    bench_data = scanner.yf_get_stock_data('SPY', days, interval_str)\n",
    "    relative = regime.simple_relative(downloaded_data, bench_data.close)\n",
    "    # TODO add relative data to schema\n",
    "    relative.to_csv(f'{data_loader.base}\\\\spy_relative_history_{interval_str}.csv')\n",
    "    downloaded_data.to_csv(history_path)\n",
    "    bench_data.to_csv(bench_path)\n",
    "\n",
    "\n",
    "def run_backtest():\n",
    "    _sp500_wiki = \"https://en.wikipedia.org/wiki/List_of_S%26P_500_companies\"\n",
    "    ticks_, _ = scanner.get_wikipedia_stocks(_sp500_wiki)\n",
    "    _days = 59\n",
    "    _interval = 15\n",
    "    _interval_str = f'{_interval}m'\n",
    "\n",
    "    scanner_ = scanner.StockDataGetter(\n",
    "        data_getter_method=lambda s: scanner.yf_get_stock_data(s, days=59, interval=_interval_str),\n",
    "    ).yield_strategy_data(\n",
    "        bench_symbol=\"SPY\",\n",
    "        symbols=ticks_,\n",
    "        # symbols=['ABBV'],\n",
    "        strategy=lambda pdf_, bdf_: (\n",
    "            sfcr.fc_scale_strategy(\n",
    "                price_data=scanner.data_to_relative(pdf_, bdf_),\n",
    "                distance_pct=0.05,\n",
    "                retrace_pct=0.05,\n",
    "                swing_window=63,\n",
    "                sw_lvl=3,\n",
    "                regime_threshold=0.5,\n",
    "                trail_offset_pct=0.01,\n",
    "                r_multiplier=1.5,\n",
    "                entry_lvls=None,\n",
    "                highest_peak_lvl=3,\n",
    "            )\n",
    "        ),\n",
    "        expected_exceptions=(regime.NotEnoughDataError, sfcr.NoEntriesError)\n",
    "    )\n",
    "    stat_overview_ = scanner.run_scanner(\n",
    "        scanner=scanner_,\n",
    "        stat_calculator=lambda data_, entry_signals_: sfcr.calc_stats(\n",
    "            data_,\n",
    "            entry_signals_,\n",
    "            min_periods=50,\n",
    "            window=200,\n",
    "            percentile=0.05,\n",
    "            limit=5,\n",
    "            freq=f'{_interval}T',\n",
    "            # freq='1D',\n",
    "            # freq='5T',\n",
    "        ),\n",
    "        relative_side_only=True\n",
    "    )\n",
    "    # stat_overview_ = stat_overview_.sort_values('risk_adj_returns_roll', axis=1, ascending=False)\n",
    "    stat_overview_.to_csv('stat_overview.csv')\n",
    "    print('done')"
   ],
   "metadata": {
    "collapsed": false,
    "pycharm": {
     "name": "#%%\n"
    }
   }
  },
  {
   "cell_type": "code",
   "execution_count": 6,
   "outputs": [],
   "source": [
    "# TODO concat all strategy data and write to feather"
   ],
   "metadata": {
    "collapsed": false,
    "pycharm": {
     "name": "#%%\n"
    }
   }
  }
 ],
 "metadata": {
  "kernelspec": {
   "display_name": "Python 3",
   "language": "python",
   "name": "python3"
  },
  "language_info": {
   "codemirror_mode": {
    "name": "ipython",
    "version": 2
   },
   "file_extension": ".py",
   "mimetype": "text/x-python",
   "name": "python",
   "nbconvert_exporter": "python",
   "pygments_lexer": "ipython2",
   "version": "2.7.6"
  }
 },
 "nbformat": 4,
 "nbformat_minor": 0
}